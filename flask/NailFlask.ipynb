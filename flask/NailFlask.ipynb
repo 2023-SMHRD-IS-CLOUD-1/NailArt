{
 "cells": [
  {
   "cell_type": "markdown",
   "id": "3b7dccb2",
   "metadata": {},
   "source": [
    "# Flask 만들기\n",
    "- 서비스 구동"
   ]
  },
  {
   "cell_type": "markdown",
   "id": "c9913f8f",
   "metadata": {},
   "source": [
    "## 라이브러리 설치"
   ]
  },
  {
   "cell_type": "code",
   "execution_count": 1,
   "id": "3c1d71a7",
   "metadata": {},
   "outputs": [
    {
     "name": "stdout",
     "output_type": "stream",
     "text": [
      "Requirement already satisfied: flask in c:\\users\\smhrd\\anaconda3\\lib\\site-packages (2.2.2)\n",
      "Requirement already satisfied: Werkzeug>=2.2.2 in c:\\users\\smhrd\\anaconda3\\lib\\site-packages (from flask) (2.2.3)\n",
      "Requirement already satisfied: Jinja2>=3.0 in c:\\users\\smhrd\\anaconda3\\lib\\site-packages (from flask) (3.1.2)\n",
      "Requirement already satisfied: itsdangerous>=2.0 in c:\\users\\smhrd\\anaconda3\\lib\\site-packages (from flask) (2.0.1)\n",
      "Requirement already satisfied: click>=8.0 in c:\\users\\smhrd\\anaconda3\\lib\\site-packages (from flask) (8.0.4)\n",
      "Requirement already satisfied: colorama in c:\\users\\smhrd\\anaconda3\\lib\\site-packages (from click>=8.0->flask) (0.4.6)\n",
      "Requirement already satisfied: MarkupSafe>=2.0 in c:\\users\\smhrd\\anaconda3\\lib\\site-packages (from Jinja2>=3.0->flask) (2.1.1)\n",
      "Requirement already satisfied: flask_cors in c:\\users\\smhrd\\anaconda3\\lib\\site-packages (4.0.0)\n",
      "Requirement already satisfied: Flask>=0.9 in c:\\users\\smhrd\\anaconda3\\lib\\site-packages (from flask_cors) (2.2.2)\n",
      "Requirement already satisfied: Werkzeug>=2.2.2 in c:\\users\\smhrd\\anaconda3\\lib\\site-packages (from Flask>=0.9->flask_cors) (2.2.3)\n",
      "Requirement already satisfied: Jinja2>=3.0 in c:\\users\\smhrd\\anaconda3\\lib\\site-packages (from Flask>=0.9->flask_cors) (3.1.2)\n",
      "Requirement already satisfied: itsdangerous>=2.0 in c:\\users\\smhrd\\anaconda3\\lib\\site-packages (from Flask>=0.9->flask_cors) (2.0.1)\n",
      "Requirement already satisfied: click>=8.0 in c:\\users\\smhrd\\anaconda3\\lib\\site-packages (from Flask>=0.9->flask_cors) (8.0.4)\n",
      "Requirement already satisfied: colorama in c:\\users\\smhrd\\anaconda3\\lib\\site-packages (from click>=8.0->Flask>=0.9->flask_cors) (0.4.6)\n",
      "Requirement already satisfied: MarkupSafe>=2.0 in c:\\users\\smhrd\\anaconda3\\lib\\site-packages (from Jinja2>=3.0->Flask>=0.9->flask_cors) (2.1.1)\n",
      "Requirement already satisfied: requests in c:\\users\\smhrd\\anaconda3\\lib\\site-packages (2.31.0)\n",
      "Requirement already satisfied: charset-normalizer<4,>=2 in c:\\users\\smhrd\\anaconda3\\lib\\site-packages (from requests) (2.0.4)\n",
      "Requirement already satisfied: idna<4,>=2.5 in c:\\users\\smhrd\\anaconda3\\lib\\site-packages (from requests) (2.10)\n",
      "Requirement already satisfied: urllib3<3,>=1.21.1 in c:\\users\\smhrd\\anaconda3\\lib\\site-packages (from requests) (1.26.16)\n",
      "Requirement already satisfied: certifi>=2017.4.17 in c:\\users\\smhrd\\anaconda3\\lib\\site-packages (from requests) (2023.11.17)\n",
      "Requirement already satisfied: google-api-python-client in c:\\users\\smhrd\\anaconda3\\lib\\site-packages (2.109.0)\n",
      "Collecting google-api-python-client\n",
      "  Obtaining dependency information for google-api-python-client from https://files.pythonhosted.org/packages/4d/b6/dccec9357261452eeaeb1900245b1100cff3b25c2005149432cc1b71a1c2/google_api_python_client-2.110.0-py2.py3-none-any.whl.metadata\n",
      "  Downloading google_api_python_client-2.110.0-py2.py3-none-any.whl.metadata (6.6 kB)\n",
      "Requirement already satisfied: httplib2<1.dev0,>=0.15.0 in c:\\users\\smhrd\\anaconda3\\lib\\site-packages (from google-api-python-client) (0.22.0)\n",
      "Requirement already satisfied: google-auth<3.0.0.dev0,>=1.19.0 in c:\\users\\smhrd\\anaconda3\\lib\\site-packages (from google-api-python-client) (2.24.0)\n",
      "Requirement already satisfied: google-auth-httplib2>=0.1.0 in c:\\users\\smhrd\\anaconda3\\lib\\site-packages (from google-api-python-client) (0.1.1)\n",
      "Requirement already satisfied: google-api-core!=2.0.*,!=2.1.*,!=2.2.*,!=2.3.0,<3.0.0.dev0,>=1.31.5 in c:\\users\\smhrd\\anaconda3\\lib\\site-packages (from google-api-python-client) (2.14.0)\n",
      "Requirement already satisfied: uritemplate<5,>=3.0.1 in c:\\users\\smhrd\\anaconda3\\lib\\site-packages (from google-api-python-client) (4.1.1)\n",
      "Requirement already satisfied: googleapis-common-protos<2.0.dev0,>=1.56.2 in c:\\users\\smhrd\\anaconda3\\lib\\site-packages (from google-api-core!=2.0.*,!=2.1.*,!=2.2.*,!=2.3.0,<3.0.0.dev0,>=1.31.5->google-api-python-client) (1.61.0)\n",
      "Requirement already satisfied: protobuf!=3.20.0,!=3.20.1,!=4.21.0,!=4.21.1,!=4.21.2,!=4.21.3,!=4.21.4,!=4.21.5,<5.0.0.dev0,>=3.19.5 in c:\\users\\smhrd\\anaconda3\\lib\\site-packages (from google-api-core!=2.0.*,!=2.1.*,!=2.2.*,!=2.3.0,<3.0.0.dev0,>=1.31.5->google-api-python-client) (3.20.3)\n",
      "Requirement already satisfied: requests<3.0.0.dev0,>=2.18.0 in c:\\users\\smhrd\\anaconda3\\lib\\site-packages (from google-api-core!=2.0.*,!=2.1.*,!=2.2.*,!=2.3.0,<3.0.0.dev0,>=1.31.5->google-api-python-client) (2.31.0)\n",
      "Requirement already satisfied: cachetools<6.0,>=2.0.0 in c:\\users\\smhrd\\anaconda3\\lib\\site-packages (from google-auth<3.0.0.dev0,>=1.19.0->google-api-python-client) (5.3.2)\n",
      "Requirement already satisfied: pyasn1-modules>=0.2.1 in c:\\users\\smhrd\\anaconda3\\lib\\site-packages (from google-auth<3.0.0.dev0,>=1.19.0->google-api-python-client) (0.2.8)\n",
      "Requirement already satisfied: rsa<5,>=3.1.4 in c:\\users\\smhrd\\anaconda3\\lib\\site-packages (from google-auth<3.0.0.dev0,>=1.19.0->google-api-python-client) (4.9)\n",
      "Requirement already satisfied: pyparsing!=3.0.0,!=3.0.1,!=3.0.2,!=3.0.3,<4,>=2.4.2 in c:\\users\\smhrd\\anaconda3\\lib\\site-packages (from httplib2<1.dev0,>=0.15.0->google-api-python-client) (2.4.7)\n",
      "Requirement already satisfied: pyasn1<0.5.0,>=0.4.6 in c:\\users\\smhrd\\anaconda3\\lib\\site-packages (from pyasn1-modules>=0.2.1->google-auth<3.0.0.dev0,>=1.19.0->google-api-python-client) (0.4.8)\n",
      "Requirement already satisfied: charset-normalizer<4,>=2 in c:\\users\\smhrd\\anaconda3\\lib\\site-packages (from requests<3.0.0.dev0,>=2.18.0->google-api-core!=2.0.*,!=2.1.*,!=2.2.*,!=2.3.0,<3.0.0.dev0,>=1.31.5->google-api-python-client) (2.0.4)\n",
      "Requirement already satisfied: idna<4,>=2.5 in c:\\users\\smhrd\\anaconda3\\lib\\site-packages (from requests<3.0.0.dev0,>=2.18.0->google-api-core!=2.0.*,!=2.1.*,!=2.2.*,!=2.3.0,<3.0.0.dev0,>=1.31.5->google-api-python-client) (2.10)\n",
      "Requirement already satisfied: urllib3<3,>=1.21.1 in c:\\users\\smhrd\\anaconda3\\lib\\site-packages (from requests<3.0.0.dev0,>=2.18.0->google-api-core!=2.0.*,!=2.1.*,!=2.2.*,!=2.3.0,<3.0.0.dev0,>=1.31.5->google-api-python-client) (1.26.16)\n",
      "Requirement already satisfied: certifi>=2017.4.17 in c:\\users\\smhrd\\anaconda3\\lib\\site-packages (from requests<3.0.0.dev0,>=2.18.0->google-api-core!=2.0.*,!=2.1.*,!=2.2.*,!=2.3.0,<3.0.0.dev0,>=1.31.5->google-api-python-client) (2023.11.17)\n",
      "Downloading google_api_python_client-2.110.0-py2.py3-none-any.whl (12.9 MB)\n",
      "   ---------------------------------------- 0.0/12.9 MB ? eta -:--:--\n",
      "   ------ --------------------------------- 2.1/12.9 MB 43.8 MB/s eta 0:00:01\n",
      "   ------------------ --------------------- 6.0/12.9 MB 63.6 MB/s eta 0:00:01\n",
      "   -------------------------------- ------- 10.4/12.9 MB 93.9 MB/s eta 0:00:01\n",
      "   ---------------------------------------  12.9/12.9 MB 93.9 MB/s eta 0:00:01\n",
      "   ---------------------------------------  12.9/12.9 MB 93.9 MB/s eta 0:00:01\n",
      "   ---------------------------------------- 12.9/12.9 MB 50.3 MB/s eta 0:00:00\n",
      "Installing collected packages: google-api-python-client\n",
      "  Attempting uninstall: google-api-python-client\n",
      "    Found existing installation: google-api-python-client 2.109.0\n",
      "    Uninstalling google-api-python-client-2.109.0:\n",
      "      Successfully uninstalled google-api-python-client-2.109.0\n",
      "Successfully installed google-api-python-client-2.110.0\n",
      "Requirement already satisfied: selenium in c:\\users\\smhrd\\anaconda3\\lib\\site-packages (4.15.2)\n",
      "Requirement already satisfied: urllib3[socks]<3,>=1.26 in c:\\users\\smhrd\\anaconda3\\lib\\site-packages (from selenium) (1.26.16)\n",
      "Requirement already satisfied: trio~=0.17 in c:\\users\\smhrd\\anaconda3\\lib\\site-packages (from selenium) (0.23.1)\n",
      "Requirement already satisfied: trio-websocket~=0.9 in c:\\users\\smhrd\\anaconda3\\lib\\site-packages (from selenium) (0.11.1)\n",
      "Requirement already satisfied: certifi>=2021.10.8 in c:\\users\\smhrd\\anaconda3\\lib\\site-packages (from selenium) (2023.11.17)\n",
      "Requirement already satisfied: attrs>=20.1.0 in c:\\users\\smhrd\\anaconda3\\lib\\site-packages (from trio~=0.17->selenium) (22.1.0)\n",
      "Requirement already satisfied: sortedcontainers in c:\\users\\smhrd\\anaconda3\\lib\\site-packages (from trio~=0.17->selenium) (2.4.0)\n",
      "Requirement already satisfied: idna in c:\\users\\smhrd\\anaconda3\\lib\\site-packages (from trio~=0.17->selenium) (2.10)\n",
      "Requirement already satisfied: outcome in c:\\users\\smhrd\\anaconda3\\lib\\site-packages (from trio~=0.17->selenium) (1.3.0.post0)\n",
      "Requirement already satisfied: sniffio>=1.3.0 in c:\\users\\smhrd\\anaconda3\\lib\\site-packages (from trio~=0.17->selenium) (1.3.0)\n",
      "Requirement already satisfied: cffi>=1.14 in c:\\users\\smhrd\\anaconda3\\lib\\site-packages (from trio~=0.17->selenium) (1.15.1)\n",
      "Requirement already satisfied: wsproto>=0.14 in c:\\users\\smhrd\\anaconda3\\lib\\site-packages (from trio-websocket~=0.9->selenium) (1.2.0)\n",
      "Requirement already satisfied: PySocks!=1.5.7,<2.0,>=1.5.6 in c:\\users\\smhrd\\anaconda3\\lib\\site-packages (from urllib3[socks]<3,>=1.26->selenium) (1.7.1)\n",
      "Requirement already satisfied: pycparser in c:\\users\\smhrd\\anaconda3\\lib\\site-packages (from cffi>=1.14->trio~=0.17->selenium) (2.21)\n",
      "Requirement already satisfied: h11<1,>=0.9.0 in c:\\users\\smhrd\\anaconda3\\lib\\site-packages (from wsproto>=0.14->trio-websocket~=0.9->selenium) (0.14.0)\n"
     ]
    },
    {
     "name": "stdout",
     "output_type": "stream",
     "text": [
      "Requirement already satisfied: pymysql in c:\\users\\smhrd\\anaconda3\\lib\\site-packages (1.1.0)\n"
     ]
    }
   ],
   "source": [
    "# 플라스크\n",
    "!pip install flask\n",
    "!pip install flask_cors\n",
    "!pip install requests\n",
    "\n",
    "# 구글 드라이브\n",
    "!pip install --upgrade google-api-python-client\n",
    "\n",
    "# 셀레니움\n",
    "!pip install selenium\n",
    "\n",
    "# DB\n",
    "!pip install pymysql\n",
    "\n"
   ]
  },
  {
   "cell_type": "code",
   "execution_count": 2,
   "id": "f4030a36",
   "metadata": {},
   "outputs": [],
   "source": [
    "# 라이브러리 임폴트\n",
    "from flask import Flask, request, make_response, redirect\n",
    "from flask_cors import CORS\n",
    "\n",
    "# 영상처리를 위한 라이브러리\n",
    "import cv2\n",
    "import mediapipe as mp\n",
    "import numpy as np \n",
    "import matplotlib.pyplot as plt\n",
    "import math\n",
    "import imutils\n",
    "from roboflow import Roboflow\n",
    "\n",
    "from selenium import webdriver as wb\n",
    "from selenium.webdriver.common.by import By\n",
    "from selenium.webdriver.common.keys import Keys\n",
    "import time"
   ]
  },
  {
   "cell_type": "markdown",
   "id": "333ec380",
   "metadata": {},
   "source": [
    "## 필요한 함수 정의"
   ]
  },
  {
   "cell_type": "markdown",
   "id": "94485604",
   "metadata": {},
   "source": [
    "### 이메일 전송"
   ]
  },
  {
   "cell_type": "code",
   "execution_count": 3,
   "id": "74f6ff1a",
   "metadata": {},
   "outputs": [],
   "source": [
    "import smtplib\n",
    "from email.mime.multipart import MIMEMultipart\n",
    "from email.mime.text import MIMEText\n",
    "\n",
    "def sendEmail(to_mail, mem_id, mem_pw):\n",
    "    my_mail = \"gkfzkseka@naver.com\"\n",
    "    pwd = \"chlwlsrbs1!\"\n",
    "    to_mail = \"gkfzkseka@naver.com\"  \n",
    "\n",
    "    msg = MIMEMultipart()\n",
    "    msg['Subject'] = \"네일뀽\"  \n",
    "    msg['From'] = my_mail\n",
    "    msg['To'] = to_mail\n",
    "\n",
    "    text = MIMEText(\"귀하의 아이디는 \"+mem_id+\"이고 비밀번호는 \"+mem_pw+\"입니다.\")\n",
    "    msg.attach(text)\n",
    "\n",
    "    smtp = smtplib.SMTP(\"smtp.naver.com\", 587)\n",
    "    smtp.starttls()\n",
    "    smtp.login(user=my_mail, password=pwd)\n",
    "    smtp.sendmail(my_mail, to_mail, msg.as_string())\n",
    "    smtp.close()\n"
   ]
  },
  {
   "cell_type": "markdown",
   "id": "db572877",
   "metadata": {},
   "source": [
    "### 네일아트 서비스"
   ]
  },
  {
   "cell_type": "code",
   "execution_count": 4,
   "id": "d4c0a6fc",
   "metadata": {},
   "outputs": [],
   "source": [
    "def nailArt(hand_url, nail_url):\n",
    "    # 사진 읽어오기\n",
    "    img = cv2.imread(hand_url)               # 원본 사진을 img에 저장\n",
    "    img = cv2.cvtColor(img, cv2.COLOR_BGR2RGB)\n",
    "\n",
    "    img_nail = cv2.imread(nail_url)               \n",
    "    img_nail = cv2.cvtColor(img_nail, cv2.COLOR_BGR2RGB)\n",
    "\n",
    "    img_height, img_width = img.shape[:2]               # 원본 사진의 높이와 너비를 저장\n",
    "    centerX, centerY = img_width//2, img_height//2     # 원본 사진의 중앙값을 저장\n",
    "\n",
    "    img_nail_height, img_nail_width = img_nail.shape[:2]               \n",
    "    nail_centerX, nail_centerY = img_nail_width//2, img_nail_height//2     \n",
    "\n",
    "    rf = Roboflow(api_key=\"0PeUxiGgkgDe4u1ykT9b\")\n",
    "    project = rf.workspace().project(\"nail-8e9wp\")\n",
    "    model = project.version(2).model\n",
    "\n",
    "    result = model.predict(hand_url).json()\n",
    "    sorted_result = sorted(result['predictions'], key=lambda x:(x['x'], x['y']))\n",
    "\n",
    "    # mediapipe 탐색\n",
    "    mpHands = mp.solutions.hands\n",
    "    hands = mpHands.Hands()\n",
    "    mpDraw = mp.solutions.drawing_utils\n",
    "\n",
    "    results = hands.process(img)\n",
    "    hand_list = []\n",
    "    \\\n",
    "    img2 = img.copy()\n",
    "    img_nail2 = img_nail.copy()\n",
    "    if results.multi_hand_landmarks:\n",
    "        for handLms in results.multi_hand_landmarks:\n",
    "            for id, lm in enumerate(handLms.landmark):\n",
    "                cx, cy = int(lm.x *img_width), int(lm.y *img_height)\n",
    "                hand_list.append([cx, cy])\n",
    "                cv2.circle(img2, (cx, cy), 10, (0, 0, 255), cv2.FILLED)\n",
    "\n",
    "            mpDraw.draw_landmarks(img2, handLms, mpHands.HAND_CONNECTIONS)\n",
    "\n",
    "    # 엄지 : 3, 4\n",
    "    # 검지 : 7, 8\n",
    "    # 중지 : 11, 12\n",
    "    # 약지 : 15, 16\n",
    "    # 소지 : 19, 20\n",
    "\n",
    "    nailpoint = [[3, 4], [7, 8], [11, 12], [15, 16], [19, 20]]\n",
    "\n",
    "    # 손가락에 대해서 각각 rotate 및 범위 지정\n",
    "    # for p in nailpoint:\n",
    "    img_hand = img.copy()\n",
    "\n",
    "    for i in range(5):\n",
    "        p = nailpoint[4-i]\n",
    "        robo_centerX = sorted_result[i]['x']\n",
    "        robo_centerY = sorted_result[i]['y']\n",
    "\n",
    "        pA_x, pA_y = hand_list[p[0]]\n",
    "        pB_x, pB_y = hand_list[p[1]]\n",
    "\n",
    "        rad = math.atan2(pA_x - pB_x, pA_y - pB_y)\n",
    "        deg = (rad*180)/3.14\n",
    "\n",
    "\n",
    "        min_x = 100000\n",
    "        min_y = 100000\n",
    "        max_x = -100000\n",
    "        max_y = -100000\n",
    "        for p in sorted_result[0]['points']:\n",
    "\n",
    "            nx = round(math.cos(rad)*p['x'] - math.sin(rad)*p['y'])\n",
    "            ny = round(math.sin(rad)*p['x'] + math.cos(rad)*p['y'])\n",
    "\n",
    "            min_x = min(min_x, nx)\n",
    "            min_y = min(min_y, ny)\n",
    "            max_x = max(max_x, nx)\n",
    "            max_y = max(max_y, ny)\n",
    "\n",
    "        resize_x = max_x-min_x\n",
    "        nail_height, nail_width = img_nail.shape[:2]\n",
    "        resize_y = int(nail_height * (resize_x/nail_width))\n",
    "\n",
    "        img_nail_copy = img_nail.copy()\n",
    "        img_nail_resized = cv2.resize(img_nail_copy, (resize_x, resize_y))\n",
    "\n",
    "\n",
    "        M = cv2.getRotationMatrix2D((centerX, centerX), -deg, 1.0)\n",
    "        rimg = cv2.warpAffine(img2, M, (img_width, img_height))\n",
    "\n",
    "        rimg_nail = imutils.rotate_bound(img_nail_resized, -deg)\n",
    "        rimg_nail_height, rimg_nail_width = rimg_nail.shape[:2]\n",
    "\n",
    "\n",
    "\n",
    "        for y in range(rimg_nail_height):\n",
    "            for x in range(rimg_nail_width):\n",
    "                if rimg_nail[y][x][0] < 10 and rimg_nail[y][x][1] < 10 and rimg_nail[y][x][2] < 10:\n",
    "                    rimg_nail[y][x][0] = 255\n",
    "                    rimg_nail[y][x][1] = 255\n",
    "                    rimg_nail[y][x][2] = 255\n",
    "\n",
    "        rA_x, rA_y = int((pA_x-centerX)*math.cos(math.radians(-rad)) - (pA_y-centerY)*math.sin(math.radians(-rad))), int((pA_x-centerX*math.sin(math.radians(-rad)) + (pA_y-centerY)*math.cos(math.radians(-rad))))\n",
    "        rA_x, rA_y = rA_x + centerX, rA_y + centerY\n",
    "\n",
    "        rB_x, rB_y = int((pB_x-centerX)*math.cos(math.radians(-rad)) - (pB_y-centerY)*math.sin(math.radians(-rad))), int((pB_x-centerX*math.sin(math.radians(-rad)) + (pB_y-centerY)*math.cos(math.radians(-rad))))\n",
    "        rB_x, rB_y = rB_x + centerX, rB_y + centerY\n",
    "\n",
    "        mask_nail = rimg_nail\n",
    "\n",
    "        # sub_img의 크기는 mask_nail의 크기만큼\n",
    "        mask_height, mask_width = mask_nail.shape[:2]\n",
    "        startX = int(robo_centerX - (mask_width//2))\n",
    "        startY = int(robo_centerY - (mask_height//2))\n",
    "\n",
    "        try:\n",
    "            mask2gray = cv2.cvtColor(mask_nail, cv2.COLOR_BGR2GRAY)\n",
    "            _, mask_b = cv2.threshold(mask2gray, 250, 255, cv2.THRESH_BINARY)\n",
    "            mask_b_inv = cv2.bitwise_not(mask_b)\n",
    "\n",
    "\n",
    "            sub_img = img_hand[ startY:startY+mask_height , startX:startX+ mask_width]\n",
    "            img_bg = cv2.bitwise_and(sub_img,sub_img,mask = mask_b)\n",
    "            img_fg = cv2.bitwise_and(mask_nail,mask_nail, mask=mask_b_inv)\n",
    "            bg_fg = cv2.add(img_bg,img_fg)\n",
    "            img_hand[ startY:startY+mask_height , startX:startX+ mask_width] = bg_fg\n",
    "\n",
    "            plt.subplot(1, 5, i+1) \n",
    "            plt.xticks([]), plt.yticks([])\n",
    "            plt.title(\"Nail\")\n",
    "            plt.imshow(img_hand)\n",
    "        except:\n",
    "            print(\"예외발생\")\n",
    "\n",
    "    img_result = cv2.cvtColor(img_hand, cv2.COLOR_RGB2BGR)\n",
    "    cv2.imwrite(\"img/result.jpg\", img_result)    \n",
    "    \n",
    "    return img_result\n",
    "\n"
   ]
  },
  {
   "cell_type": "code",
   "execution_count": 5,
   "id": "dc981fd4",
   "metadata": {},
   "outputs": [],
   "source": [
    "# 현재 파일 개수 반환\n",
    "def len_file():\n",
    "    driver = wb.Chrome() \n",
    "\n",
    "    url = 'https://drive.google.com/drive/folders/1QK2S0KR3pN-3iMF6Da4ONUkJHZAzSq0U/'\n",
    "\n",
    "    driver.get(url)\n",
    "    # xpath = '//*[@id=\":1\"]/div/c-wiz/div[2]/c-wiz/div[1]/c-wiz/div[2]/c-wiz/div[1]/c-wiz/c-wiz/div/'\n",
    "    classname = 'pmHCK'\n",
    "    elements = driver.find_elements(By.CLASS_NAME, classname)\n",
    "    print(len(elements))\n",
    "    \n",
    "    driver.close()\n",
    "    \n",
    "    return len(elements)\n",
    "\n"
   ]
  },
  {
   "cell_type": "code",
   "execution_count": 6,
   "id": "33eddaa0",
   "metadata": {},
   "outputs": [
    {
     "name": "stderr",
     "output_type": "stream",
     "text": [
      "The chromedriver version (119.0.6045.105) detected in PATH at C:\\Users\\smhrd\\NailProject\\chromedriver.exe might not be compatible with the detected chrome version (120.0.6099.71); currently, chromedriver 120.0.6099.71 is recommended for chrome 120.*, so it is advised to delete the driver in PATH and retry\n"
     ]
    },
    {
     "name": "stdout",
     "output_type": "stream",
     "text": [
      "46\n"
     ]
    },
    {
     "data": {
      "text/plain": [
       "46"
      ]
     },
     "execution_count": 6,
     "metadata": {},
     "output_type": "execute_result"
    }
   ],
   "source": [
    "len_file()"
   ]
  },
  {
   "cell_type": "code",
   "execution_count": 7,
   "id": "39a48882",
   "metadata": {},
   "outputs": [],
   "source": [
    "# file_id 가져오기\n",
    "def select_fileId(fname):\n",
    "    driver = wb.Chrome() \n",
    "\n",
    "    if fname == 'NailartImg':\n",
    "        url = 'https://drive.google.com/drive/folders/1QK2S0KR3pN-3iMF6Da4ONUkJHZAzSq0U/'\n",
    "    elif fname == 'ShopImg':\n",
    "        url = 'https://drive.google.com/drive/folders/1t5x1Sj6BcZToO9TN9qLHdkFsBrCnmFVq/'\n",
    "\n",
    "    driver.get(url)\n",
    "    # xpath = '//*[@id=\":1\"]/div/c-wiz/div[2]/c-wiz/div[1]/c-wiz/div[2]/c-wiz/div[1]/c-wiz/c-wiz/div/'\n",
    "    classname = 'pmHCK'\n",
    "    elements = driver.find_elements(By.CLASS_NAME, classname)\n",
    "    index = (len(elements))\n",
    "    print(index)\n",
    "    \n",
    "    xpath = '//*[@id=\":1\"]/div/c-wiz/div[2]/c-wiz/div[1]/c-wiz/div[2]/c-wiz/div[1]/c-wiz/c-wiz/div/c-wiz['+str(index)+']/div'\n",
    "    element = driver.find_element(By.XPATH, xpath)\n",
    "  \n",
    "    file_id = element.get_attribute('data-id')\n",
    "   \n",
    "    driver.close()\n",
    "    \n",
    "    return file_id"
   ]
  },
  {
   "cell_type": "code",
   "execution_count": 8,
   "id": "ba87e74e",
   "metadata": {},
   "outputs": [
    {
     "name": "stderr",
     "output_type": "stream",
     "text": [
      "The chromedriver version (119.0.6045.105) detected in PATH at C:\\Users\\smhrd\\NailProject\\chromedriver.exe might not be compatible with the detected chrome version (120.0.6099.71); currently, chromedriver 120.0.6099.71 is recommended for chrome 120.*, so it is advised to delete the driver in PATH and retry\n"
     ]
    },
    {
     "name": "stdout",
     "output_type": "stream",
     "text": [
      "11\n"
     ]
    },
    {
     "data": {
      "text/plain": [
       "'1nuw1wQ5nqKpZNPgBYM4pfYldf1FZRMg5'"
      ]
     },
     "execution_count": 8,
     "metadata": {},
     "output_type": "execute_result"
    }
   ],
   "source": [
    "select_fileId(\"ShopImg\")"
   ]
  },
  {
   "cell_type": "code",
   "execution_count": 9,
   "id": "efab0d4b",
   "metadata": {},
   "outputs": [],
   "source": [
    "# file_id 가져오기\n",
    "def select_fileId2(fname):\n",
    "    driver = wb.Chrome() \n",
    "\n",
    "    if fname == 'NailartImg':\n",
    "        url = 'https://drive.google.com/drive/folders/1QK2S0KR3pN-3iMF6Da4ONUkJHZAzSq0U/'\n",
    "    elif fname == 'ShopImg':\n",
    "        url = 'https://drive.google.com/drive/folders/1t5x1Sj6BcZToO9TN9qLHdkFsBrCnmFVq/'\n",
    "\n",
    "    driver.get(url)\n",
    "    # xpath = '//*[@id=\":1\"]/div/c-wiz/div[2]/c-wiz/div[1]/c-wiz/div[2]/c-wiz/div[1]/c-wiz/c-wiz/div/'\n",
    "    classname = 'pmHCK'\n",
    "    elements = driver.find_elements(By.CLASS_NAME, classname)\n",
    "    index = (len(elements))\n",
    "    print(index)\n",
    "    \n",
    "    for i in range(1, index+1):\n",
    "        xpath = '//*[@id=\":1\"]/div/c-wiz/div[2]/c-wiz/div[1]/c-wiz/div[2]/c-wiz/div[1]/c-wiz/c-wiz/div/c-wiz['+str(i)+']/div'\n",
    "        element = driver.find_element(By.XPATH, xpath)\n",
    "\n",
    "        file_id = element.get_attribute('data-id')\n",
    "        print(file_id)\n",
    "   \n",
    "    driver.close()\n",
    "    \n",
    "    return file_id"
   ]
  },
  {
   "cell_type": "code",
   "execution_count": 10,
   "id": "93ac208e",
   "metadata": {},
   "outputs": [
    {
     "name": "stderr",
     "output_type": "stream",
     "text": [
      "The chromedriver version (119.0.6045.105) detected in PATH at C:\\Users\\smhrd\\NailProject\\chromedriver.exe might not be compatible with the detected chrome version (120.0.6099.71); currently, chromedriver 120.0.6099.71 is recommended for chrome 120.*, so it is advised to delete the driver in PATH and retry\n"
     ]
    },
    {
     "name": "stdout",
     "output_type": "stream",
     "text": [
      "11\n",
      "1t0UC74vERR86wza4sR_xr9imE3bJjQvU\n",
      "1kfGIPtB_f_RExPDL9n7qOE7_PCnnLeG2\n",
      "1HJnap8Bz9dKj7-xGp-NLjE5MpVKosu7Y\n",
      "1hz9DcnVIWWfUvRRP1mFKflOLwicqq7ff\n",
      "1YxShNU5dqaN1pUkmmocxY3ur5Ir3l7c7\n",
      "1IRLqcnSqqatb1SeDVrk3qyXT4E0sCs_N\n",
      "1Ywnnn-_n5S29sy5Z8o5q-xZlUSrAFlEz\n",
      "1LfJCLmWLVz_FOvyXj9ZdLUWvX1ulh0U5\n",
      "1hZbnhTLk8pJ4GdbJt7bK8KJzElQJbSPK\n",
      "18vmGcun_pR0ZKPMrjjjqvPwtovZQoroL\n",
      "1nuw1wQ5nqKpZNPgBYM4pfYldf1FZRMg5\n"
     ]
    },
    {
     "data": {
      "text/plain": [
       "'1nuw1wQ5nqKpZNPgBYM4pfYldf1FZRMg5'"
      ]
     },
     "execution_count": 10,
     "metadata": {},
     "output_type": "execute_result"
    }
   ],
   "source": [
    "select_fileId2(\"ShopImg\")"
   ]
  },
  {
   "cell_type": "markdown",
   "id": "c31acd11",
   "metadata": {},
   "source": [
    "### 파일 다운로드"
   ]
  },
  {
   "cell_type": "code",
   "execution_count": 11,
   "id": "b2387575",
   "metadata": {},
   "outputs": [],
   "source": [
    "#import gdown\n",
    "#driver = wb.Chrome() \n",
    "\n",
    "#url = 'https://drive.google.com/drive/folders/1QK2S0KR3pN-3iMF6Da4ONUkJHZAzSq0U/'\n",
    "\n",
    "#driver.get(url)\n",
    "\n",
    "#for i in range(1, 43, 1):\n",
    "#    xpath = '//*[@id=\":1\"]/div/c-wiz/div[2]/c-wiz/div[1]/c-wiz/div[2]/c-wiz/div[1]/c-wiz/c-wiz/div/c-wiz['+str(i)+']/div'\n",
    "#    element = driver.find_element(By.XPATH, xpath)\n",
    "#    print(element.get_attribute('data-id'))\n"
   ]
  },
  {
   "cell_type": "code",
   "execution_count": 12,
   "id": "25b00461",
   "metadata": {},
   "outputs": [],
   "source": [
    "# "
   ]
  },
  {
   "cell_type": "code",
   "execution_count": 13,
   "id": "ffd9f0ef",
   "metadata": {},
   "outputs": [],
   "source": [
    "# NailartImg 폴더 내부의 공유파일 다운로드\n",
    "def file_download(fname, index):\n",
    "    import gdown\n",
    "    driver = wb.Chrome() \n",
    "    url = ''\n",
    "    \n",
    "    if fname == 'NailartImg':\n",
    "        url = 'https://drive.google.com/drive/folders/1QK2S0KR3pN-3iMF6Da4ONUkJHZAzSq0U/'\n",
    "        \n",
    "    driver.get(url)\n",
    "    xpath = '//*[@id=\":1\"]/div/c-wiz/div[2]/c-wiz/div[1]/c-wiz/div[2]/c-wiz/div[1]/c-wiz/c-wiz/div/c-wiz['+index+']/div'\n",
    "    element = driver.find_element(By.XPATH, xpath)\n",
    "    print(element.get_attribute('data-id'))\n",
    "    \n",
    "    file_id = element.get_attribute('data-id')\n",
    "    print(file_id)\n",
    "    \n",
    "    output = './img/download.png' # 저장 위치 및 저장할 파일 이름\n",
    "    gdown.download(id=file_id, output=output, quiet=False)\n",
    "    \n",
    "    driver.close()\n",
    "    \n",
    "    return output"
   ]
  },
  {
   "cell_type": "code",
   "execution_count": 14,
   "id": "b7dc657e",
   "metadata": {},
   "outputs": [
    {
     "name": "stderr",
     "output_type": "stream",
     "text": [
      "The chromedriver version (119.0.6045.105) detected in PATH at C:\\Users\\smhrd\\NailProject\\chromedriver.exe might not be compatible with the detected chrome version (120.0.6099.71); currently, chromedriver 120.0.6099.71 is recommended for chrome 120.*, so it is advised to delete the driver in PATH and retry\n"
     ]
    },
    {
     "name": "stdout",
     "output_type": "stream",
     "text": [
      "11lcbK9sQvQExIe2fuoWte6UfboQYtJrV\n",
      "11lcbK9sQvQExIe2fuoWte6UfboQYtJrV\n"
     ]
    },
    {
     "name": "stderr",
     "output_type": "stream",
     "text": [
      "Downloading...\n",
      "From: https://drive.google.com/uc?id=11lcbK9sQvQExIe2fuoWte6UfboQYtJrV\n",
      "To: C:\\Users\\smhrd\\NailProject\\img\\download.png\n",
      "100%|█████████████████████████████████████████████████████████████████████████████| 29.4k/29.4k [00:00<00:00, 1.54MB/s]\n"
     ]
    },
    {
     "name": "stdout",
     "output_type": "stream",
     "text": [
      "./img/download.png\n"
     ]
    }
   ],
   "source": [
    "# test\n",
    "print(file_download(\"NailartImg\", \"1\"))"
   ]
  },
  {
   "cell_type": "code",
   "execution_count": 15,
   "id": "0e7f824f",
   "metadata": {},
   "outputs": [],
   "source": [
    "# NailartImg 폴더 내부의 공유파일 다운로드\n",
    "def file_download2(fild_id):\n",
    "    import gdown\n",
    "    output = './img/download.png' # 저장 위치 및 저장할 파일 이름\n",
    "    gdown.download(id=fild_id, output=output, quiet=False)\n",
    "\n",
    "    return output"
   ]
  },
  {
   "cell_type": "code",
   "execution_count": 16,
   "id": "1ded582b",
   "metadata": {},
   "outputs": [],
   "source": [
    "# test\n",
    "# print(file_downlboad2('1oixA42pnhd7qDVWGm9GSADnX1wKBIDUB'))"
   ]
  },
  {
   "cell_type": "code",
   "execution_count": 17,
   "id": "08617fcb",
   "metadata": {},
   "outputs": [
    {
     "name": "stdout",
     "output_type": "stream",
     "text": [
      "Collecting argparse\n",
      "  Using cached argparse-1.4.0-py2.py3-none-any.whl (23 kB)\n",
      "Installing collected packages: argparse\n",
      "Successfully installed argparse-1.4.0\n"
     ]
    }
   ],
   "source": [
    "!pip install argparse"
   ]
  },
  {
   "cell_type": "markdown",
   "id": "aa7c5537",
   "metadata": {},
   "source": [
    "### 파일 업로드"
   ]
  },
  {
   "cell_type": "code",
   "execution_count": 18,
   "id": "232e6788",
   "metadata": {},
   "outputs": [],
   "source": [
    "from googleapiclient.discovery import build\n",
    "from httplib2 import Http\n",
    "from oauth2client import file, client, tools\n",
    "import argparse\n",
    "\n",
    "def file_upload(fname, iname):\n",
    "    flags = argparse.ArgumentParser(parents=[tools.argparser]).parse_args(args=[])\n",
    "\n",
    "    SCOPES = 'https://www.googleapis.com/auth/drive.file'\n",
    "    store = file.Storage('storage.json')\n",
    "    creds = store.get()\n",
    "\n",
    "    if not creds or creds.invalid:\n",
    "        print(\"make new storage data file \")\n",
    "        flow = client.flow_from_clientsecrets('client_secret_drive.json', SCOPES)\n",
    "        creds = tools.run_flow(flow, store, flags) \\\n",
    "                if flags else tools.run(flow, store)\n",
    "\n",
    "    DRIVE = build('drive', 'v3', http=creds.authorize(Http()))\n",
    "\n",
    "    FILES = (\n",
    "        (iname),\n",
    "    )\n",
    "\n",
    "    if fname == \"NailartImg\":\n",
    "        folder_id = '1QK2S0KR3pN-3iMF6Da4ONUkJHZAzSq0U'\n",
    "    elif fname == \"ShopImg\":\n",
    "        folder_id = '1t5x1Sj6BcZToO9TN9qLHdkFsBrCnmFVq' \n",
    "\n",
    "    for file_title in FILES :\n",
    "        file_name = file_title\n",
    "        metadata = {'name': file_name[6:],\n",
    "                    'parents' : [folder_id],\n",
    "                    'mimeType': None\n",
    "                    }\n",
    "\n",
    "        res = DRIVE.files().create(body=metadata, media_body=file_name).execute()\n",
    "        if res:\n",
    "            print('Uploaded \"%s\" (%s)' % (file_name, res['mimeType']))"
   ]
  },
  {
   "cell_type": "code",
   "execution_count": 19,
   "id": "733ab1f6",
   "metadata": {},
   "outputs": [
    {
     "name": "stdout",
     "output_type": "stream",
     "text": [
      "Uploaded \"./img/nail1.png\" (image/png)\n"
     ]
    }
   ],
   "source": [
    "file_upload(\"NailartImg\", \"./img/nail1.png\")"
   ]
  },
  {
   "cell_type": "code",
   "execution_count": 20,
   "id": "7725f2a1",
   "metadata": {},
   "outputs": [
    {
     "name": "stdout",
     "output_type": "stream",
     "text": [
      "Requirement already satisfied: jsonify in c:\\users\\smhrd\\anaconda3\\lib\\site-packages (0.5)\n"
     ]
    }
   ],
   "source": [
    "!pip install jsonify"
   ]
  },
  {
   "cell_type": "code",
   "execution_count": null,
   "id": "296a6f08",
   "metadata": {},
   "outputs": [],
   "source": []
  },
  {
   "cell_type": "markdown",
   "id": "728f1cec",
   "metadata": {},
   "source": [
    "## Flask 서버 구동"
   ]
  },
  {
   "cell_type": "code",
   "execution_count": null,
   "id": "8fea0943",
   "metadata": {},
   "outputs": [
    {
     "name": "stdout",
     "output_type": "stream",
     "text": [
      " * Serving Flask app '__main__'\n",
      " * Debug mode: off\n"
     ]
    },
    {
     "name": "stderr",
     "output_type": "stream",
     "text": [
      "WARNING: This is a development server. Do not use it in a production deployment. Use a production WSGI server instead.\n",
      " * Running on http://127.0.0.1:9003\n",
      "Press CTRL+C to quit\n",
      "Downloading...\n",
      "From: https://drive.google.com/uc?id=1t0UC74vERR86wza4sR_xr9imE3bJjQvU\n",
      "To: C:\\Users\\smhrd\\NailProject\\img\\download.png\n",
      "100%|███████████████████████████████████████████████████████████████████████████████| 694k/694k [00:00<00:00, 3.22MB/s]\n",
      "127.0.0.1 - - [08/Dec/2023 10:38:25] \"GET /GoogleDriveDownload2?nail_img=1t0UC74vERR86wza4sR_xr9imE3bJjQvU HTTP/1.1\" 200 -\n",
      "Downloading...\n",
      "From: https://drive.google.com/uc?id=1t0UC74vERR86wza4sR_xr9imE3bJjQvU\n",
      "To: C:\\Users\\smhrd\\NailProject\\img\\download.png\n",
      "100%|███████████████████████████████████████████████████████████████████████████████| 694k/694k [00:00<00:00, 3.00MB/s]\n",
      "127.0.0.1 - - [08/Dec/2023 10:39:33] \"GET /GoogleDriveDownload2?nail_img=1t0UC74vERR86wza4sR_xr9imE3bJjQvU HTTP/1.1\" 200 -\n",
      "Downloading...\n",
      "From: https://drive.google.com/uc?id=1t0UC74vERR86wza4sR_xr9imE3bJjQvU\n",
      "To: C:\\Users\\smhrd\\NailProject\\img\\download.png\n",
      "100%|███████████████████████████████████████████████████████████████████████████████| 694k/694k [00:00<00:00, 3.10MB/s]\n",
      "127.0.0.1 - - [08/Dec/2023 10:44:32] \"GET /GoogleDriveDownload2?nail_img=1t0UC74vERR86wza4sR_xr9imE3bJjQvU HTTP/1.1\" 200 -\n",
      "127.0.0.1 - - [08/Dec/2023 10:44:42] \"POST /saveInputfile HTTP/1.1\" 200 -\n",
      "Downloading...\n",
      "From: https://drive.google.com/uc?id=1BUhDDhtDM6rYsic1EQWzMVD6DOTZKFAp\n",
      "To: C:\\Users\\smhrd\\NailProject\\img\\download.png\n",
      "100%|█████████████████████████████████████████████████████████████████████████████| 11.3k/11.3k [00:00<00:00, 1.83MB/s]\n"
     ]
    },
    {
     "name": "stdout",
     "output_type": "stream",
     "text": [
      "loading Roboflow workspace...\n",
      "loading Roboflow project...\n"
     ]
    },
    {
     "name": "stderr",
     "output_type": "stream",
     "text": [
      "127.0.0.1 - - [08/Dec/2023 10:44:58] \"GET /nailArtService?nail_img=1BUhDDhtDM6rYsic1EQWzMVD6DOTZKFAp HTTP/1.1\" 200 -\n",
      "Downloading...\n",
      "From: https://drive.google.com/uc?id=1t0UC74vERR86wza4sR_xr9imE3bJjQvU\n",
      "To: C:\\Users\\smhrd\\NailProject\\img\\download.png\n",
      "100%|███████████████████████████████████████████████████████████████████████████████| 694k/694k [00:00<00:00, 3.15MB/s]\n",
      "127.0.0.1 - - [08/Dec/2023 10:45:33] \"GET /GoogleDriveDownload2?nail_img=1t0UC74vERR86wza4sR_xr9imE3bJjQvU HTTP/1.1\" 200 -\n",
      "Downloading...\n",
      "From: https://drive.google.com/uc?id=1t0UC74vERR86wza4sR_xr9imE3bJjQvU\n",
      "To: C:\\Users\\smhrd\\NailProject\\img\\download.png\n",
      "100%|███████████████████████████████████████████████████████████████████████████████| 694k/694k [00:00<00:00, 3.79MB/s]\n",
      "127.0.0.1 - - [08/Dec/2023 10:46:01] \"GET /GoogleDriveDownload2?nail_img=1t0UC74vERR86wza4sR_xr9imE3bJjQvU HTTP/1.1\" 200 -\n",
      "Downloading...\n",
      "From: https://drive.google.com/uc?id=1t0UC74vERR86wza4sR_xr9imE3bJjQvU\n",
      "To: C:\\Users\\smhrd\\NailProject\\img\\download.png\n",
      "100%|███████████████████████████████████████████████████████████████████████████████| 694k/694k [00:00<00:00, 2.94MB/s]\n",
      "127.0.0.1 - - [08/Dec/2023 10:46:04] \"GET /GoogleDriveDownload2?nail_img=1t0UC74vERR86wza4sR_xr9imE3bJjQvU HTTP/1.1\" 200 -\n",
      "Downloading...\n",
      "From: https://drive.google.com/uc?id=1t0UC74vERR86wza4sR_xr9imE3bJjQvU\n",
      "To: C:\\Users\\smhrd\\NailProject\\img\\download.png\n",
      "100%|███████████████████████████████████████████████████████████████████████████████| 694k/694k [00:00<00:00, 2.88MB/s]\n",
      "127.0.0.1 - - [08/Dec/2023 10:47:00] \"GET /GoogleDriveDownload2?nail_img=1t0UC74vERR86wza4sR_xr9imE3bJjQvU HTTP/1.1\" 200 -\n",
      "Downloading...\n",
      "From: https://drive.google.com/uc?id=1t0UC74vERR86wza4sR_xr9imE3bJjQvU\n",
      "To: C:\\Users\\smhrd\\NailProject\\img\\download.png\n",
      "100%|███████████████████████████████████████████████████████████████████████████████| 694k/694k [00:00<00:00, 2.79MB/s]\n",
      "127.0.0.1 - - [08/Dec/2023 11:15:50] \"GET /GoogleDriveDownload2?nail_img=1t0UC74vERR86wza4sR_xr9imE3bJjQvU HTTP/1.1\" 200 -\n",
      "Downloading...\n",
      "From: https://drive.google.com/uc?id=1t0UC74vERR86wza4sR_xr9imE3bJjQvU\n",
      "To: C:\\Users\\smhrd\\NailProject\\img\\download.png\n",
      "100%|███████████████████████████████████████████████████████████████████████████████| 694k/694k [00:00<00:00, 3.25MB/s]\n",
      "127.0.0.1 - - [08/Dec/2023 11:17:13] \"GET /GoogleDriveDownload2?nail_img=1t0UC74vERR86wza4sR_xr9imE3bJjQvU HTTP/1.1\" 200 -\n",
      "127.0.0.1 - - [08/Dec/2023 11:20:50] \"POST /saveInputfile HTTP/1.1\" 200 -\n",
      "Downloading...\n",
      "From: https://drive.google.com/uc?id=1BUhDDhtDM6rYsic1EQWzMVD6DOTZKFAp\n",
      "To: C:\\Users\\smhrd\\NailProject\\img\\download.png\n",
      "100%|█████████████████████████████████████████████████████████████████████████████| 11.3k/11.3k [00:00<00:00, 5.66MB/s]\n"
     ]
    },
    {
     "name": "stdout",
     "output_type": "stream",
     "text": [
      "loading Roboflow workspace...\n",
      "loading Roboflow project...\n"
     ]
    },
    {
     "name": "stderr",
     "output_type": "stream",
     "text": [
      "127.0.0.1 - - [08/Dec/2023 11:21:08] \"GET /nailArtService?nail_img=1BUhDDhtDM6rYsic1EQWzMVD6DOTZKFAp HTTP/1.1\" 200 -\n",
      "Downloading...\n",
      "From: https://drive.google.com/uc?id=1t0UC74vERR86wza4sR_xr9imE3bJjQvU\n",
      "To: C:\\Users\\smhrd\\NailProject\\img\\download.png\n",
      "100%|███████████████████████████████████████████████████████████████████████████████| 694k/694k [00:00<00:00, 2.67MB/s]\n",
      "127.0.0.1 - - [08/Dec/2023 11:24:48] \"GET /GoogleDriveDownload2?nail_img=1t0UC74vERR86wza4sR_xr9imE3bJjQvU HTTP/1.1\" 200 -\n",
      "127.0.0.1 - - [08/Dec/2023 14:28:38] \"GET /sendEmailService?to_email=gkfzkseka%40naver.com&mem_id=admin&mem_pw=admin HTTP/1.1\" 200 -\n",
      "127.0.0.1 - - [08/Dec/2023 14:29:28] \"POST /saveInputfile HTTP/1.1\" 200 -\n",
      "Downloading...\n",
      "From: https://drive.google.com/uc?id=1BUhDDhtDM6rYsic1EQWzMVD6DOTZKFAp\n",
      "To: C:\\Users\\smhrd\\NailProject\\img\\download.png\n",
      "100%|█████████████████████████████████████████████████████████████████████████████| 11.3k/11.3k [00:00<00:00, 1.89MB/s]\n"
     ]
    },
    {
     "name": "stdout",
     "output_type": "stream",
     "text": [
      "loading Roboflow workspace...\n",
      "loading Roboflow project...\n"
     ]
    },
    {
     "name": "stderr",
     "output_type": "stream",
     "text": [
      "127.0.0.1 - - [08/Dec/2023 14:30:08] \"GET /nailArtService?nail_img=1BUhDDhtDM6rYsic1EQWzMVD6DOTZKFAp HTTP/1.1\" 200 -\n",
      "127.0.0.1 - - [08/Dec/2023 14:54:28] \"POST /saveInputfile HTTP/1.1\" 200 -\n",
      "Downloading...\n",
      "From: https://drive.google.com/uc?id=1BUhDDhtDM6rYsic1EQWzMVD6DOTZKFAp\n",
      "To: C:\\Users\\smhrd\\NailProject\\img\\download.png\n",
      "100%|█████████████████████████████████████████████████████████████████████████████| 11.3k/11.3k [00:00<00:00, 2.70MB/s]\n"
     ]
    },
    {
     "name": "stdout",
     "output_type": "stream",
     "text": [
      "loading Roboflow workspace...\n",
      "loading Roboflow project...\n"
     ]
    },
    {
     "name": "stderr",
     "output_type": "stream",
     "text": [
      "127.0.0.1 - - [08/Dec/2023 14:54:48] \"GET /nailArtService?nail_img=1BUhDDhtDM6rYsic1EQWzMVD6DOTZKFAp HTTP/1.1\" 200 -\n",
      "127.0.0.1 - - [08/Dec/2023 14:55:12] \"GET /sendEmailService?to_email=gkfzkseka%40naver.com&mem_id=admin&mem_pw=admin HTTP/1.1\" 200 -\n",
      "Downloading...\n",
      "From: https://drive.google.com/uc?id=1t0UC74vERR86wza4sR_xr9imE3bJjQvU\n",
      "To: C:\\Users\\smhrd\\NailProject\\img\\download.png\n",
      "100%|███████████████████████████████████████████████████████████████████████████████| 694k/694k [00:00<00:00, 4.34MB/s]\n",
      "127.0.0.1 - - [08/Dec/2023 14:56:59] \"GET /GoogleDriveDownload2?nail_img=1t0UC74vERR86wza4sR_xr9imE3bJjQvU HTTP/1.1\" 200 -\n",
      "127.0.0.1 - - [08/Dec/2023 15:45:08] \"POST /saveInputfile HTTP/1.1\" 200 -\n",
      "Downloading...\n",
      "From: https://drive.google.com/uc?id=1h-q6lvvnjOd5pVSdDAB_CU7cdjGZp9no\n",
      "To: C:\\Users\\smhrd\\NailProject\\img\\download.png\n",
      "100%|█████████████████████████████████████████████████████████████████████████████| 5.88k/5.88k [00:00<00:00, 1.95MB/s]\n"
     ]
    },
    {
     "name": "stdout",
     "output_type": "stream",
     "text": [
      "loading Roboflow workspace...\n",
      "loading Roboflow project...\n"
     ]
    },
    {
     "name": "stderr",
     "output_type": "stream",
     "text": [
      "127.0.0.1 - - [08/Dec/2023 15:45:33] \"GET /nailArtService?nail_img=1h-q6lvvnjOd5pVSdDAB_CU7cdjGZp9no HTTP/1.1\" 200 -\n",
      "Downloading...\n",
      "From: https://drive.google.com/uc?id=1t0UC74vERR86wza4sR_xr9imE3bJjQvU\n",
      "To: C:\\Users\\smhrd\\NailProject\\img\\download.png\n",
      "100%|███████████████████████████████████████████████████████████████████████████████| 694k/694k [00:00<00:00, 3.71MB/s]\n",
      "127.0.0.1 - - [08/Dec/2023 16:00:08] \"GET /GoogleDriveDownload2?nail_img=1t0UC74vERR86wza4sR_xr9imE3bJjQvU HTTP/1.1\" 200 -\n"
     ]
    },
    {
     "name": "stdout",
     "output_type": "stream",
     "text": [
      "Uploaded \"./img/21성민샵.png\" (image/jpeg)\n"
     ]
    },
    {
     "name": "stderr",
     "output_type": "stream",
     "text": [
      "The chromedriver version (119.0.6045.105) detected in PATH at C:\\Users\\smhrd\\NailProject\\chromedriver.exe might not be compatible with the detected chrome version (120.0.6099.71); currently, chromedriver 120.0.6099.71 is recommended for chrome 120.*, so it is advised to delete the driver in PATH and retry\n"
     ]
    },
    {
     "name": "stdout",
     "output_type": "stream",
     "text": [
      "12\n"
     ]
    },
    {
     "name": "stderr",
     "output_type": "stream",
     "text": [
      "127.0.0.1 - - [08/Dec/2023 16:00:23] \"POST /GoogleDriveUpload HTTP/1.1\" 200 -\n"
     ]
    },
    {
     "name": "stdout",
     "output_type": "stream",
     "text": [
      "Uploaded \"./img/21성민샵.png\" (image/jpeg)\n"
     ]
    },
    {
     "name": "stderr",
     "output_type": "stream",
     "text": [
      "The chromedriver version (119.0.6045.105) detected in PATH at C:\\Users\\smhrd\\NailProject\\chromedriver.exe might not be compatible with the detected chrome version (120.0.6099.71); currently, chromedriver 120.0.6099.71 is recommended for chrome 120.*, so it is advised to delete the driver in PATH and retry\n"
     ]
    },
    {
     "name": "stdout",
     "output_type": "stream",
     "text": [
      "13\n"
     ]
    },
    {
     "name": "stderr",
     "output_type": "stream",
     "text": [
      "127.0.0.1 - - [08/Dec/2023 16:01:15] \"POST /GoogleDriveUpload HTTP/1.1\" 200 -\n"
     ]
    }
   ],
   "source": [
    "from flask import Flask, request, make_response, redirect\n",
    "from flask_cors import CORS\n",
    "from flask import Flask, render_template, send_file\n",
    "import cv2\n",
    "from flask import Blueprint, request\n",
    "from werkzeug.utils import secure_filename\n",
    "from flask import Flask, jsonify\n",
    "\n",
    "bp = Blueprint('image', __name__, url_prefix='/image')\n",
    "\n",
    "app = Flask(__name__)\n",
    "\n",
    "CORS(app)\n",
    "\n",
    "# 서버연결 테스트용으로 만든 메시지를 그대로 되돌려주는 함수\n",
    "@app.route(\"/\", methods=[\"GET\", \"POST\"]) \n",
    "def startFlask():\n",
    "    msg = request.args.get(\"message\") # --> request.getParameter(\"name값\")\n",
    "    return dict({\"res\":msg})\n",
    "\n",
    "# 전송한 파일을 로컬에 저장하는 함수\n",
    "@app.route('/saveInputfile', methods=['POST'])\n",
    "def saveInputfile():\n",
    "    if request.method =='POST':\n",
    "        f = request.files['fileInput']\n",
    "        save_to = f'img/input_file.png'\n",
    "        f.save(save_to)\n",
    "        return 'success'\n",
    "    \n",
    "# 전송한 파일을 로컬에 저장하는 함수\n",
    "@app.route('/saveInputfile2', methods=['POST'])\n",
    "def saveInputfile2():\n",
    "    if request.method =='POST':\n",
    "        f = request.files['input_file']\n",
    "        save_to = f'img/input_file2.png'\n",
    "        f.save(save_to)\n",
    "        return 'success'\n",
    "    \n",
    "# 전송한 파일을 로컬에 저장하는 함수\n",
    "# 위의 함수랑 같은건데 흠....\n",
    "# \n",
    "@app.route('/saveNailImg', methods=['POST'])\n",
    "def saveNailImg():\n",
    "    if request.method =='POST':\n",
    "        f = request.files['input_file']\n",
    "        name = request.files['name']\n",
    "        save_to = f'img/{name}'\n",
    "        f.save(save_to)\n",
    "        return 'success'\n",
    "\n",
    "# 입력값. 사용자의 손 사진을 받아서 저장 \n",
    "@app.route('/file', methods=['POST'])\n",
    "def file_post():\n",
    "    input_img = request.form.get('input_file')\n",
    "    PATH = \"img/input_img.jpg\"\n",
    "    #cv2.imwrite(PATH, input_img)\n",
    "    \n",
    "    #img = nailArt(PATH, './img/nail1.png')\n",
    "    \n",
    "    return request.form.get('title')\n",
    "\n",
    "# 테스트 하는 코드\n",
    "# 뭘 하려했던 건지 알 수 없음\n",
    "@app.route(\"/test\", methods=[\"GET\", \"POST\"]) \n",
    "def test():\n",
    "    if request.method == 'POST':\n",
    "        result = request.form\n",
    "        return render_template(\"8_sending_form_data_result.html\", result=result)\n",
    "\n",
    "# 사용자의 손 사진을 읽고\n",
    "# 사용자가 요청한 네일아트 사진을 읽어와서 네일아트 서비스를 실행\n",
    "@app.route(\"/nailArtService\", methods=[\"GET\", \"POST\"]) \n",
    "def nailArtService():\n",
    "    # hand_img = request.args.get(\"hand_img\")\n",
    "    nail_img = request.args.get(\"nail_img\")\n",
    "    PATH = file_download2(nail_img)\n",
    "    \n",
    "    img = nailArt(\"./img/input_file.png\", PATH)\n",
    "\n",
    "    PATH = \"./img/nail_result.png\"\n",
    "    cv2.imwrite(PATH, img)\n",
    "\n",
    "    return send_file(PATH, as_attachment=True)\n",
    "    \n",
    "@app.route(\"/nailArtService2\", methods=[\"GET\", \"POST\"]) \n",
    "def nailArtService2():\n",
    "    # hand_img = request.args.get(\"hand_img\")\n",
    "    nail_img = request.args.get(\"nail_img\")\n",
    "    nail_img = \"./img/\"+nail_img[7:]\n",
    "    print(nail_img)\n",
    "\n",
    "    img = nailArt(\"./img/input_file.png\", nail_img)\n",
    "\n",
    "    PATH = \"./img/nail_result.png\"\n",
    "    cv2.imwrite(PATH, img)\n",
    "\n",
    "    return send_file(PATH, as_attachment=True)\n",
    "\n",
    "@app.route(\"/GoogleDriveUpload\", methods=[\"GET\", \"POST\"]) \n",
    "def GoogleDriveUpload():\n",
    "    if request.method =='POST':\n",
    "        f = request.files['input_file']\n",
    "        fname = request.form['fname']\n",
    "        iname = request.form['iname']\n",
    "        \n",
    "        save_to = f'img/{iname}'\n",
    "        f.save(save_to)\n",
    "        \n",
    "        PATH = f'./img/{iname}'\n",
    "        # 저장 시킨 다음에 \n",
    "        file_upload(fname, PATH)\n",
    "        \n",
    "        file_id = select_fileId(fname)\n",
    "    \n",
    "    return file_id\n",
    "    \n",
    "@app.route(\"/GoogleDriveDownload\", methods=[\"GET\", \"POST\"]) \n",
    "def GoogleDriveDownload():\n",
    "    img_idx = request.args.get(\"img_idx\")\n",
    "    PATH = file_download('NailartImg', img_idx)\n",
    "    \n",
    "    return send_file(PATH, as_attachment=True)\n",
    "\n",
    "@app.route(\"/GoogleDriveDownload2\", methods=[\"GET\", \"POST\"]) \n",
    "def GoogleDriveDownload2():\n",
    "    nail_img = request.args.get(\"nail_img\")\n",
    "    PATH = file_download2(nail_img)\n",
    "    \n",
    "    res = send_file(PATH, as_attachment=True)\n",
    "    return res\n",
    "    #return nail_img\n",
    "\n",
    "@app.route(\"/GoogleDriveDownload3\", methods=[\"GET\", \"POST\"]) \n",
    "def GoogleDriveDownload3():\n",
    "    nail_id = request.args.get(\"nail_id\")\n",
    "    nail_img = request.args.get(\"nail_img\")\n",
    "    PATH = file_download2(nail_img)\n",
    "    \n",
    "    img = cv2.imread(PATH)\n",
    "    \n",
    "    #return jsonify({'nail_id' : nail_id, 'nail_img': img})\n",
    "    res = send_file(PATH, as_attachment=True)\n",
    "    return jsonify({'nail_id' : nail_id, 'nail_img' : res})\n",
    "    \n",
    "# to_email에게 mem_id와 mem_pw를 전송\n",
    "@app.route(\"/sendEmailService\", methods=[\"GET\", \"POST\"]) \n",
    "def sendEmailService():\n",
    "    to_email = request.args.get(\"to_email\")\n",
    "    mem_id = request.args.get(\"mem_id\")\n",
    "    mem_pw = request.args.get(\"mem_pw\")\n",
    "    sendEmail(to_email, mem_id, mem_pw)\n",
    "    return \"success\"\n",
    "\n",
    "if __name__ == \"__main__\" : # main method 역할! --> 서버를 구동시키는 부분\n",
    "    app.run(host = \"127.0.0.1\", port = \"9003\")\n"
   ]
  },
  {
   "cell_type": "code",
   "execution_count": null,
   "id": "d3e7b571",
   "metadata": {},
   "outputs": [],
   "source": []
  },
  {
   "cell_type": "markdown",
   "id": "f4ca1bbf",
   "metadata": {},
   "source": [
    "# 함수 테스트"
   ]
  },
  {
   "cell_type": "code",
   "execution_count": null,
   "id": "7340cfff",
   "metadata": {},
   "outputs": [],
   "source": [
    "# nailArt(\"./img/img2.jpg\", \"./img/nail1.png\")"
   ]
  },
  {
   "cell_type": "code",
   "execution_count": null,
   "id": "615c9db8",
   "metadata": {},
   "outputs": [],
   "source": [
    "# sendEmail(\"gkfzkseka@naver.com\", \"jkchoi\", \"1234\")"
   ]
  }
 ],
 "metadata": {
  "kernelspec": {
   "display_name": "Python 3 (ipykernel)",
   "language": "python",
   "name": "python3"
  },
  "language_info": {
   "codemirror_mode": {
    "name": "ipython",
    "version": 3
   },
   "file_extension": ".py",
   "mimetype": "text/x-python",
   "name": "python",
   "nbconvert_exporter": "python",
   "pygments_lexer": "ipython3",
   "version": "3.11.4"
  },
  "toc": {
   "base_numbering": 1,
   "nav_menu": {},
   "number_sections": true,
   "sideBar": true,
   "skip_h1_title": false,
   "title_cell": "Table of Contents",
   "title_sidebar": "Contents",
   "toc_cell": false,
   "toc_position": {},
   "toc_section_display": true,
   "toc_window_display": false
  }
 },
 "nbformat": 4,
 "nbformat_minor": 5
}
